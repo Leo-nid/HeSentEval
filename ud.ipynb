{
 "cells": [
  {
   "cell_type": "code",
   "execution_count": 1,
   "metadata": {},
   "outputs": [],
   "source": [
    "import pyconll\n",
    "import pandas as pd\n",
    "import glob\n",
    "import matplotlib.pyplot as plt\n",
    "import numpy as np\n",
    "\n",
    "%load_ext autoreload\n",
    "%autoreload 2"
   ]
  },
  {
   "cell_type": "code",
   "execution_count": 2,
   "metadata": {},
   "outputs": [],
   "source": [
    "\n",
    "def merge_files(locations, new_file):\n",
    "  files = []\n",
    "  for loc in locations:\n",
    "    files += glob.glob(loc)\n",
    "  res = open(new_file, 'w')\n",
    "  for file in files:\n",
    "    with open(file) as fd:\n",
    "      res.write(fd.read())\n",
    "  res.close()"
   ]
  },
  {
   "cell_type": "code",
   "execution_count": 3,
   "metadata": {},
   "outputs": [],
   "source": [
    "merge_files(['./UD_Hebrew-*/*.conllu'], 'he-ud.conllu')"
   ]
  },
  {
   "cell_type": "code",
   "execution_count": 4,
   "metadata": {},
   "outputs": [],
   "source": [
    "heb = pyconll.load_from_file('he-ud.conllu')"
   ]
  },
  {
   "cell_type": "code",
   "execution_count": 5,
   "metadata": {},
   "outputs": [],
   "source": [
    "result = []"
   ]
  },
  {
   "cell_type": "code",
   "execution_count": 6,
   "metadata": {},
   "outputs": [],
   "source": [
    "def all_POS(sentence):\n",
    "  for token in sentence:\n",
    "    if token.upos == 'X':\n",
    "      return False\n",
    "  return True\n",
    "\n",
    "def count_words(sentence):\n",
    "  result = 0\n",
    "  skip = 0\n",
    "  for token in sentence:\n",
    "    if '-' in token.id:\n",
    "      result += 1\n",
    "      skip = int(token.id.split('-')[1])\n",
    "    elif int(token.id) > skip and token.upos != 'PUNCT':\n",
    "      result += 1\n",
    "  return result\n",
    "\n",
    "def count_tokens(sentence):\n",
    "  result = 0\n",
    "  for token in sentence:\n",
    "    if '-' not in token.id:\n",
    "      result += 1\n",
    "  return result\n",
    "  "
   ]
  },
  {
   "cell_type": "code",
   "execution_count": 9,
   "metadata": {},
   "outputs": [],
   "source": [
    "data = pd.DataFrame([(count_words(sentence), count_tokens(sentence), sentence.text) for sentence in heb if all_POS(sentence)], columns=['words', 'tokens', 'sentence'])"
   ]
  },
  {
   "cell_type": "code",
   "execution_count": 8,
   "metadata": {},
   "outputs": [
    {
     "ename": "NameError",
     "evalue": "name 'data' is not defined",
     "output_type": "error",
     "traceback": [
      "\u001b[0;31m---------------------------------------------------------------------------\u001b[0m",
      "\u001b[0;31mNameError\u001b[0m                                 Traceback (most recent call last)",
      "Cell \u001b[0;32mIn[8], line 1\u001b[0m\n\u001b[0;32m----> 1\u001b[0m \u001b[43mdata\u001b[49m\u001b[38;5;241m.\u001b[39mwords\u001b[38;5;241m.\u001b[39mhist\n",
      "\u001b[0;31mNameError\u001b[0m: name 'data' is not defined"
     ]
    }
   ],
   "source": [
    "data.words.hist"
   ]
  },
  {
   "cell_type": "code",
   "execution_count": 10,
   "metadata": {},
   "outputs": [
    {
     "data": {
      "image/png": "[encoded data removed]",
      "text/plain": [
       "<Figure size 1600x1000 with 1 Axes>"
      ]
     },
     "metadata": {},
     "output_type": "display_data"
    }
   ],
   "source": [
    "fig = plt.figure(figsize=(16, 10))\n",
    "plt.hist(data.words, bins=np.arange(60))\n",
    "plt.show()"
   ]
  },
  {
   "cell_type": "code",
   "execution_count": 11,
   "metadata": {},
   "outputs": [],
   "source": [
    "ru_data = pd.read_csv(\n",
    "            \"RuSentEval/data/sent_len.txt\",\n",
    "            sep=\"\\t\",\n",
    "            names=(\"subset\", \"label\", \"sentence\"),\n",
    "          )"
   ]
  },
  {
   "cell_type": "code",
   "execution_count": 12,
   "metadata": {},
   "outputs": [],
   "source": [
    "count, division = np.histogram(data.words, bins=np.arange(100))"
   ]
  },
  {
   "cell_type": "code",
   "execution_count": 13,
   "metadata": {},
   "outputs": [
    {
     "data": {
      "text/plain": [
       "10975"
      ]
     },
     "execution_count": 13,
     "metadata": {},
     "output_type": "execute_result"
    }
   ],
   "source": [
    "sum(count)"
   ]
  },
  {
   "cell_type": "code",
   "execution_count": 15,
   "metadata": {},
   "outputs": [],
   "source": [
    "thresholds = np.linspace(0.05, 0.95, num = 7) * sum(count)"
   ]
  },
  {
   "cell_type": "code",
   "execution_count": 16,
   "metadata": {},
   "outputs": [],
   "source": [
    "threshold_ids = np.searchsorted(np.cumsum(count), thresholds) + 1"
   ]
  },
  {
   "cell_type": "code",
   "execution_count": 17,
   "metadata": {},
   "outputs": [
    {
     "data": {
      "text/plain": [
       "array([ 5, 10, 13, 16, 19, 24, 34])"
      ]
     },
     "execution_count": 17,
     "metadata": {},
     "output_type": "execute_result"
    }
   ],
   "source": [
    "threshold_ids"
   ]
  },
  {
   "cell_type": "code",
   "execution_count": 18,
   "metadata": {},
   "outputs": [],
   "source": [
    "data['sent_len'] = data['words'].apply(lambda x : (threshold_ids >= x).sum() - 1)"
   ]
  },
  {
   "cell_type": "code",
   "execution_count": 91,
   "metadata": {},
   "outputs": [
    {
     "data": {
      "text/html": [
       "<div>\n",
       "<style scoped>\n",
       "    .dataframe tbody tr th:only-of-type {\n",
       "        vertical-align: middle;\n",
       "    }\n",
       "\n",
       "    .dataframe tbody tr th {\n",
       "        vertical-align: top;\n",
       "    }\n",
       "\n",
       "    .dataframe thead th {\n",
       "        text-align: right;\n",
       "    }\n",
       "</style>\n",
       "<table border=\"1\" class=\"dataframe\">\n",
       "  <thead>\n",
       "    <tr style=\"text-align: right;\">\n",
       "      <th></th>\n",
       "      <th>words</th>\n",
       "      <th>tokens</th>\n",
       "      <th>sentence</th>\n",
       "      <th>sent_len</th>\n",
       "    </tr>\n",
       "  </thead>\n",
       "  <tbody>\n",
       "    <tr>\n",
       "      <th>0</th>\n",
       "      <td>30</td>\n",
       "      <td>47</td>\n",
       "      <td>בגוף בריא לכליות מספר רב של תפקידים, העיקריים ...</td>\n",
       "      <td>0</td>\n",
       "    </tr>\n",
       "    <tr>\n",
       "      <th>1</th>\n",
       "      <td>8</td>\n",
       "      <td>11</td>\n",
       "      <td>זהו טיפול תומך שאינו מיועד לרפא את הכליות.</td>\n",
       "      <td>5</td>\n",
       "    </tr>\n",
       "    <tr>\n",
       "      <th>2</th>\n",
       "      <td>27</td>\n",
       "      <td>45</td>\n",
       "      <td>דיאליזה מיועדת לחולים קשים שהכליות שלהם חדלו ל...</td>\n",
       "      <td>0</td>\n",
       "    </tr>\n",
       "    <tr>\n",
       "      <th>3</th>\n",
       "      <td>15</td>\n",
       "      <td>21</td>\n",
       "      <td>הדיאליזה הוא טיפול במיקרים של שילוב בין היפרקל...</td>\n",
       "      <td>3</td>\n",
       "    </tr>\n",
       "    <tr>\n",
       "      <th>4</th>\n",
       "      <td>16</td>\n",
       "      <td>24</td>\n",
       "      <td>בישראל היו בסוף שנת 2017 6700 חולים בטיפול דיא...</td>\n",
       "      <td>3</td>\n",
       "    </tr>\n",
       "    <tr>\n",
       "      <th>...</th>\n",
       "      <td>...</td>\n",
       "      <td>...</td>\n",
       "      <td>...</td>\n",
       "      <td>...</td>\n",
       "    </tr>\n",
       "    <tr>\n",
       "      <th>10970</th>\n",
       "      <td>17</td>\n",
       "      <td>26</td>\n",
       "      <td>האנטיפסטו של מאכלי ים היה מורכב בעיקר מזרועות ...</td>\n",
       "      <td>2</td>\n",
       "    </tr>\n",
       "    <tr>\n",
       "      <th>10971</th>\n",
       "      <td>18</td>\n",
       "      <td>29</td>\n",
       "      <td>אף שהמנה היתה טעימה, חסרה בה החריפות של פלפלי ...</td>\n",
       "      <td>2</td>\n",
       "    </tr>\n",
       "    <tr>\n",
       "      <th>10972</th>\n",
       "      <td>4</td>\n",
       "      <td>7</td>\n",
       "      <td>כמו שיעולים, שלשול וחום.</td>\n",
       "      <td>6</td>\n",
       "    </tr>\n",
       "    <tr>\n",
       "      <th>10973</th>\n",
       "      <td>11</td>\n",
       "      <td>20</td>\n",
       "      <td>הוריהם האמינו ברפואה המודרנית והרופאים המליצו ...</td>\n",
       "      <td>4</td>\n",
       "    </tr>\n",
       "    <tr>\n",
       "      <th>10974</th>\n",
       "      <td>6</td>\n",
       "      <td>9</td>\n",
       "      <td>העצה היתה טובה אך לא התרופה.</td>\n",
       "      <td>5</td>\n",
       "    </tr>\n",
       "  </tbody>\n",
       "</table>\n",
       "<p>10975 rows × 4 columns</p>\n",
       "</div>"
      ],
      "text/plain": [
       "       words  tokens                                           sentence  \\\n",
       "0         30      47  בגוף בריא לכליות מספר רב של תפקידים, העיקריים ...   \n",
       "1          8      11         זהו טיפול תומך שאינו מיועד לרפא את הכליות.   \n",
       "2         27      45  דיאליזה מיועדת לחולים קשים שהכליות שלהם חדלו ל...   \n",
       "3         15      21  הדיאליזה הוא טיפול במיקרים של שילוב בין היפרקל...   \n",
       "4         16      24  בישראל היו בסוף שנת 2017 6700 חולים בטיפול דיא...   \n",
       "...      ...     ...                                                ...   \n",
       "10970     17      26  האנטיפסטו של מאכלי ים היה מורכב בעיקר מזרועות ...   \n",
       "10971     18      29  אף שהמנה היתה טעימה, חסרה בה החריפות של פלפלי ...   \n",
       "10972      4       7                           כמו שיעולים, שלשול וחום.   \n",
       "10973     11      20  הוריהם האמינו ברפואה המודרנית והרופאים המליצו ...   \n",
       "10974      6       9                       העצה היתה טובה אך לא התרופה.   \n",
       "\n",
       "       sent_len  \n",
       "0             0  \n",
       "1             5  \n",
       "2             0  \n",
       "3             3  \n",
       "4             3  \n",
       "...         ...  \n",
       "10970         2  \n",
       "10971         2  \n",
       "10972         6  \n",
       "10973         4  \n",
       "10974         5  \n",
       "\n",
       "[10975 rows x 4 columns]"
      ]
     },
     "execution_count": 91,
     "metadata": {},
     "output_type": "execute_result"
    }
   ],
   "source": [
    "data"
   ]
  },
  {
   "cell_type": "code",
   "execution_count": 19,
   "metadata": {},
   "outputs": [],
   "source": [
    "sent_len_he = data[(data['sent_len'] >= 0) & (data['sent_len'] < 6)].drop(['words', 'tokens'], axis=1)"
   ]
  },
  {
   "cell_type": "code",
   "execution_count": 93,
   "metadata": {},
   "outputs": [
    {
     "data": {
      "text/html": [
       "<div>\n",
       "<style scoped>\n",
       "    .dataframe tbody tr th:only-of-type {\n",
       "        vertical-align: middle;\n",
       "    }\n",
       "\n",
       "    .dataframe tbody tr th {\n",
       "        vertical-align: top;\n",
       "    }\n",
       "\n",
       "    .dataframe thead th {\n",
       "        text-align: right;\n",
       "    }\n",
       "</style>\n",
       "<table border=\"1\" class=\"dataframe\">\n",
       "  <thead>\n",
       "    <tr style=\"text-align: right;\">\n",
       "      <th></th>\n",
       "      <th>sentence</th>\n",
       "      <th>sent_len</th>\n",
       "    </tr>\n",
       "  </thead>\n",
       "  <tbody>\n",
       "    <tr>\n",
       "      <th>0</th>\n",
       "      <td>בגוף בריא לכליות מספר רב של תפקידים, העיקריים ...</td>\n",
       "      <td>0</td>\n",
       "    </tr>\n",
       "    <tr>\n",
       "      <th>1</th>\n",
       "      <td>זהו טיפול תומך שאינו מיועד לרפא את הכליות.</td>\n",
       "      <td>5</td>\n",
       "    </tr>\n",
       "    <tr>\n",
       "      <th>2</th>\n",
       "      <td>דיאליזה מיועדת לחולים קשים שהכליות שלהם חדלו ל...</td>\n",
       "      <td>0</td>\n",
       "    </tr>\n",
       "    <tr>\n",
       "      <th>3</th>\n",
       "      <td>הדיאליזה הוא טיפול במיקרים של שילוב בין היפרקל...</td>\n",
       "      <td>3</td>\n",
       "    </tr>\n",
       "    <tr>\n",
       "      <th>4</th>\n",
       "      <td>בישראל היו בסוף שנת 2017 6700 חולים בטיפול דיא...</td>\n",
       "      <td>3</td>\n",
       "    </tr>\n",
       "    <tr>\n",
       "      <th>...</th>\n",
       "      <td>...</td>\n",
       "      <td>...</td>\n",
       "    </tr>\n",
       "    <tr>\n",
       "      <th>10969</th>\n",
       "      <td>פשטידת קותלי החזיר והירקות היתה חסרת טעם ושימו...</td>\n",
       "      <td>2</td>\n",
       "    </tr>\n",
       "    <tr>\n",
       "      <th>10970</th>\n",
       "      <td>האנטיפסטו של מאכלי ים היה מורכב בעיקר מזרועות ...</td>\n",
       "      <td>2</td>\n",
       "    </tr>\n",
       "    <tr>\n",
       "      <th>10971</th>\n",
       "      <td>אף שהמנה היתה טעימה, חסרה בה החריפות של פלפלי ...</td>\n",
       "      <td>2</td>\n",
       "    </tr>\n",
       "    <tr>\n",
       "      <th>10973</th>\n",
       "      <td>הוריהם האמינו ברפואה המודרנית והרופאים המליצו ...</td>\n",
       "      <td>4</td>\n",
       "    </tr>\n",
       "    <tr>\n",
       "      <th>10974</th>\n",
       "      <td>העצה היתה טובה אך לא התרופה.</td>\n",
       "      <td>5</td>\n",
       "    </tr>\n",
       "  </tbody>\n",
       "</table>\n",
       "<p>9662 rows × 2 columns</p>\n",
       "</div>"
      ],
      "text/plain": [
       "                                                sentence  sent_len\n",
       "0      בגוף בריא לכליות מספר רב של תפקידים, העיקריים ...         0\n",
       "1             זהו טיפול תומך שאינו מיועד לרפא את הכליות.         5\n",
       "2      דיאליזה מיועדת לחולים קשים שהכליות שלהם חדלו ל...         0\n",
       "3      הדיאליזה הוא טיפול במיקרים של שילוב בין היפרקל...         3\n",
       "4      בישראל היו בסוף שנת 2017 6700 חולים בטיפול דיא...         3\n",
       "...                                                  ...       ...\n",
       "10969  פשטידת קותלי החזיר והירקות היתה חסרת טעם ושימו...         2\n",
       "10970  האנטיפסטו של מאכלי ים היה מורכב בעיקר מזרועות ...         2\n",
       "10971  אף שהמנה היתה טעימה, חסרה בה החריפות של פלפלי ...         2\n",
       "10973  הוריהם האמינו ברפואה המודרנית והרופאים המליצו ...         4\n",
       "10974                       העצה היתה טובה אך לא התרופה.         5\n",
       "\n",
       "[9662 rows x 2 columns]"
      ]
     },
     "execution_count": 93,
     "metadata": {},
     "output_type": "execute_result"
    }
   ],
   "source": [
    "sent_len_he"
   ]
  },
  {
   "cell_type": "code",
   "execution_count": 85,
   "metadata": {},
   "outputs": [
    {
     "data": {
      "text/html": [
       "<div>\n",
       "<style scoped>\n",
       "    .dataframe tbody tr th:only-of-type {\n",
       "        vertical-align: middle;\n",
       "    }\n",
       "\n",
       "    .dataframe tbody tr th {\n",
       "        vertical-align: top;\n",
       "    }\n",
       "\n",
       "    .dataframe thead th {\n",
       "        text-align: right;\n",
       "    }\n",
       "</style>\n",
       "<table border=\"1\" class=\"dataframe\">\n",
       "  <thead>\n",
       "    <tr style=\"text-align: right;\">\n",
       "      <th></th>\n",
       "      <th>subset</th>\n",
       "      <th>label</th>\n",
       "      <th>sentence</th>\n",
       "    </tr>\n",
       "  </thead>\n",
       "  <tbody>\n",
       "    <tr>\n",
       "      <th>0</th>\n",
       "      <td>tr</td>\n",
       "      <td>0</td>\n",
       "      <td>Главный герой отправляется в бой .</td>\n",
       "    </tr>\n",
       "    <tr>\n",
       "      <th>1</th>\n",
       "      <td>tr</td>\n",
       "      <td>0</td>\n",
       "      <td>Рабочие повредили стволы деревьев .</td>\n",
       "    </tr>\n",
       "    <tr>\n",
       "      <th>2</th>\n",
       "      <td>tr</td>\n",
       "      <td>0</td>\n",
       "      <td>Посмотрите на наши расходы .</td>\n",
       "    </tr>\n",
       "    <tr>\n",
       "      <th>3</th>\n",
       "      <td>tr</td>\n",
       "      <td>0</td>\n",
       "      <td>Они располагались на северо-восточной стороне ...</td>\n",
       "    </tr>\n",
       "    <tr>\n",
       "      <th>4</th>\n",
       "      <td>tr</td>\n",
       "      <td>0</td>\n",
       "      <td>Но информация не подтвердилась .</td>\n",
       "    </tr>\n",
       "    <tr>\n",
       "      <th>...</th>\n",
       "      <td>...</td>\n",
       "      <td>...</td>\n",
       "      <td>...</td>\n",
       "    </tr>\n",
       "    <tr>\n",
       "      <th>119983</th>\n",
       "      <td>va</td>\n",
       "      <td>5</td>\n",
       "      <td>Наличие неоконченных фраз в конце некоторых те...</td>\n",
       "    </tr>\n",
       "    <tr>\n",
       "      <th>119984</th>\n",
       "      <td>va</td>\n",
       "      <td>5</td>\n",
       "      <td>Классификатор должен иметь достаточно большой ...</td>\n",
       "    </tr>\n",
       "    <tr>\n",
       "      <th>119985</th>\n",
       "      <td>va</td>\n",
       "      <td>5</td>\n",
       "      <td>Увидев , что туда пришло слишком мало людей , ...</td>\n",
       "    </tr>\n",
       "    <tr>\n",
       "      <th>119986</th>\n",
       "      <td>va</td>\n",
       "      <td>5</td>\n",
       "      <td>Сложность и цели пьяных игр сильно варьируют ,...</td>\n",
       "    </tr>\n",
       "    <tr>\n",
       "      <th>119987</th>\n",
       "      <td>va</td>\n",
       "      <td>5</td>\n",
       "      <td>Правительство страны запустило план действий в...</td>\n",
       "    </tr>\n",
       "  </tbody>\n",
       "</table>\n",
       "<p>119988 rows × 3 columns</p>\n",
       "</div>"
      ],
      "text/plain": [
       "       subset  label                                           sentence\n",
       "0          tr      0                 Главный герой отправляется в бой .\n",
       "1          tr      0                Рабочие повредили стволы деревьев .\n",
       "2          tr      0                       Посмотрите на наши расходы .\n",
       "3          tr      0  Они располагались на северо-восточной стороне ...\n",
       "4          tr      0                   Но информация не подтвердилась .\n",
       "...       ...    ...                                                ...\n",
       "119983     va      5  Наличие неоконченных фраз в конце некоторых те...\n",
       "119984     va      5  Классификатор должен иметь достаточно большой ...\n",
       "119985     va      5  Увидев , что туда пришло слишком мало людей , ...\n",
       "119986     va      5  Сложность и цели пьяных игр сильно варьируют ,...\n",
       "119987     va      5  Правительство страны запустило план действий в...\n",
       "\n",
       "[119988 rows x 3 columns]"
      ]
     },
     "execution_count": 85,
     "metadata": {},
     "output_type": "execute_result"
    }
   ],
   "source": [
    "ru_data"
   ]
  },
  {
   "cell_type": "code",
   "execution_count": 21,
   "metadata": {},
   "outputs": [],
   "source": [
    "sent_len_he = sent_len_he.reset_index()"
   ]
  },
  {
   "cell_type": "code",
   "execution_count": 59,
   "metadata": {},
   "outputs": [],
   "source": [
    "def add_column_train(data, split_column, val_size, test_size, seed):\n",
    "  res = data.reset_index()\n",
    "  classes = data[split_column].unique()\n",
    "  train_size = 1 - val_size - test_size\n",
    "  np.random.seed(42)\n",
    "  res['subset'] = ''\n",
    "  for label in classes:\n",
    "    ids = res[res[split_column] == label].index\n",
    "    perm = np.random.permutation(ids)\n",
    "    train_point = int(np.floor(len(ids) * train_size))\n",
    "    val_point = int(np.floor(len(ids) * (train_size + val_size)))\n",
    "    res['subset'][perm[:train_point]] = 'tr'\n",
    "    res['subset'][perm[train_point:val_point]] = 'va'\n",
    "    res['subset'][perm[val_point:]] = 'te'\n",
    "  return res"
   ]
  },
  {
   "cell_type": "code",
   "execution_count": null,
   "metadata": {},
   "outputs": [],
   "source": [
    "sent_len_splited = add_column_train(sent_len_he, 'sent_len', 0.1, 0.1, 42).drop(['level_0', 'index'], axis=1)"
   ]
  },
  {
   "cell_type": "code",
   "execution_count": 65,
   "metadata": {},
   "outputs": [
    {
     "data": {
      "text/html": [
       "<div>\n",
       "<style scoped>\n",
       "    .dataframe tbody tr th:only-of-type {\n",
       "        vertical-align: middle;\n",
       "    }\n",
       "\n",
       "    .dataframe tbody tr th {\n",
       "        vertical-align: top;\n",
       "    }\n",
       "\n",
       "    .dataframe thead th {\n",
       "        text-align: right;\n",
       "    }\n",
       "</style>\n",
       "<table border=\"1\" class=\"dataframe\">\n",
       "  <thead>\n",
       "    <tr style=\"text-align: right;\">\n",
       "      <th></th>\n",
       "      <th>sentence</th>\n",
       "      <th>sent_len</th>\n",
       "      <th>subset</th>\n",
       "    </tr>\n",
       "  </thead>\n",
       "  <tbody>\n",
       "    <tr>\n",
       "      <th>0</th>\n",
       "      <td>בגוף בריא לכליות מספר רב של תפקידים, העיקריים ...</td>\n",
       "      <td>0</td>\n",
       "      <td>tr</td>\n",
       "    </tr>\n",
       "    <tr>\n",
       "      <th>1</th>\n",
       "      <td>זהו טיפול תומך שאינו מיועד לרפא את הכליות.</td>\n",
       "      <td>5</td>\n",
       "      <td>tr</td>\n",
       "    </tr>\n",
       "    <tr>\n",
       "      <th>2</th>\n",
       "      <td>דיאליזה מיועדת לחולים קשים שהכליות שלהם חדלו ל...</td>\n",
       "      <td>0</td>\n",
       "      <td>va</td>\n",
       "    </tr>\n",
       "    <tr>\n",
       "      <th>3</th>\n",
       "      <td>הדיאליזה הוא טיפול במיקרים של שילוב בין היפרקל...</td>\n",
       "      <td>3</td>\n",
       "      <td>tr</td>\n",
       "    </tr>\n",
       "    <tr>\n",
       "      <th>4</th>\n",
       "      <td>בישראל היו בסוף שנת 2017 6700 חולים בטיפול דיא...</td>\n",
       "      <td>3</td>\n",
       "      <td>tr</td>\n",
       "    </tr>\n",
       "    <tr>\n",
       "      <th>...</th>\n",
       "      <td>...</td>\n",
       "      <td>...</td>\n",
       "      <td>...</td>\n",
       "    </tr>\n",
       "    <tr>\n",
       "      <th>9657</th>\n",
       "      <td>פשטידת קותלי החזיר והירקות היתה חסרת טעם ושימו...</td>\n",
       "      <td>2</td>\n",
       "      <td>te</td>\n",
       "    </tr>\n",
       "    <tr>\n",
       "      <th>9658</th>\n",
       "      <td>האנטיפסטו של מאכלי ים היה מורכב בעיקר מזרועות ...</td>\n",
       "      <td>2</td>\n",
       "      <td>te</td>\n",
       "    </tr>\n",
       "    <tr>\n",
       "      <th>9659</th>\n",
       "      <td>אף שהמנה היתה טעימה, חסרה בה החריפות של פלפלי ...</td>\n",
       "      <td>2</td>\n",
       "      <td>tr</td>\n",
       "    </tr>\n",
       "    <tr>\n",
       "      <th>9660</th>\n",
       "      <td>הוריהם האמינו ברפואה המודרנית והרופאים המליצו ...</td>\n",
       "      <td>4</td>\n",
       "      <td>tr</td>\n",
       "    </tr>\n",
       "    <tr>\n",
       "      <th>9661</th>\n",
       "      <td>העצה היתה טובה אך לא התרופה.</td>\n",
       "      <td>5</td>\n",
       "      <td>tr</td>\n",
       "    </tr>\n",
       "  </tbody>\n",
       "</table>\n",
       "<p>9662 rows × 3 columns</p>\n",
       "</div>"
      ],
      "text/plain": [
       "                                               sentence  sent_len subset\n",
       "0     בגוף בריא לכליות מספר רב של תפקידים, העיקריים ...         0     tr\n",
       "1            זהו טיפול תומך שאינו מיועד לרפא את הכליות.         5     tr\n",
       "2     דיאליזה מיועדת לחולים קשים שהכליות שלהם חדלו ל...         0     va\n",
       "3     הדיאליזה הוא טיפול במיקרים של שילוב בין היפרקל...         3     tr\n",
       "4     בישראל היו בסוף שנת 2017 6700 חולים בטיפול דיא...         3     tr\n",
       "...                                                 ...       ...    ...\n",
       "9657  פשטידת קותלי החזיר והירקות היתה חסרת טעם ושימו...         2     te\n",
       "9658  האנטיפסטו של מאכלי ים היה מורכב בעיקר מזרועות ...         2     te\n",
       "9659  אף שהמנה היתה טעימה, חסרה בה החריפות של פלפלי ...         2     tr\n",
       "9660  הוריהם האמינו ברפואה המודרנית והרופאים המליצו ...         4     tr\n",
       "9661                       העצה היתה טובה אך לא התרופה.         5     tr\n",
       "\n",
       "[9662 rows x 3 columns]"
      ]
     },
     "execution_count": 65,
     "metadata": {},
     "output_type": "execute_result"
    }
   ],
   "source": [
    "sent_len_splited"
   ]
  },
  {
   "cell_type": "code",
   "execution_count": 66,
   "metadata": {},
   "outputs": [],
   "source": [
    "sent_len_splited.to_csv('sent_len.txt', sep='\\t', index=False, header=False, columns=['subset', 'sent_len', 'sentence'])"
   ]
  },
  {
   "cell_type": "code",
   "execution_count": null,
   "metadata": {},
   "outputs": [],
   "source": []
  },
  {
   "cell_type": "code",
   "execution_count": 68,
   "metadata": {},
   "outputs": [
    {
     "name": "stdout",
     "output_type": "stream",
     "text": [
      "Start probing for the following tasks: ['sent_len']\n",
      "Probing the sent_len task...\n",
      "/Users/leonid/hse/curse/sent_len.txt\n"
     ]
    },
    {
     "name": "stderr",
     "output_type": "stream",
     "text": [
      "Some weights of the model checkpoint at xlm-roberta-base were not used when initializing XLMRobertaModel: ['lm_head.layer_norm.weight', 'lm_head.bias', 'lm_head.dense.weight', 'lm_head.dense.bias', 'lm_head.decoder.weight', 'lm_head.layer_norm.bias']\n",
      "- This IS expected if you are initializing XLMRobertaModel from the checkpoint of a model trained on another task or with another architecture (e.g. initializing a BertForSequenceClassification model from a BertForPreTraining model).\n",
      "- This IS NOT expected if you are initializing XLMRobertaModel from the checkpoint of a model that you expect to be exactly identical (initializing a BertForSequenceClassification model from a BertForSequenceClassification model).\n",
      "Converting examples to features...: 100%|██████████| 76/76 [02:46<00:00,  2.20s/it]\n"
     ]
    },
    {
     "name": "stdout",
     "output_type": "stream",
     "text": [
      "Layer: 1...\n",
      "Training mlp with param L2 1e-05...\n",
      "Training mlp with param L2 0.0001...\n",
      "Training mlp with param L2 0.001...\n",
      "Training mlp with param L2 0.01...\n",
      "Training mlp with param L2 0.1...\n",
      "Best L2: 1e-05\n",
      "Train Loss: 0.616\n",
      "Validation Loss: 0.581\n",
      "Validation Score: 0.85\n",
      "Test Loss: 0.345\n",
      "Test Score: 0.861\n",
      "******************************\n",
      "\n",
      "Layer: 2...\n",
      "Training mlp with param L2 1e-05...\n",
      "Training mlp with param L2 0.0001...\n",
      "Training mlp with param L2 0.001...\n",
      "Training mlp with param L2 0.01...\n",
      "Training mlp with param L2 0.1...\n",
      "Best L2: 1e-05\n",
      "Train Loss: 0.556\n",
      "Validation Loss: 0.537\n",
      "Validation Score: 0.851\n",
      "Test Loss: 0.312\n",
      "Test Score: 0.87\n",
      "******************************\n",
      "\n",
      "Layer: 3...\n",
      "Training mlp with param L2 1e-05...\n",
      "Training mlp with param L2 0.0001...\n",
      "Training mlp with param L2 0.001...\n",
      "Training mlp with param L2 0.01...\n",
      "Training mlp with param L2 0.1...\n",
      "Best L2: 0.0001\n",
      "Train Loss: 0.593\n",
      "Validation Loss: 0.565\n",
      "Validation Score: 0.854\n",
      "Test Loss: 0.352\n",
      "Test Score: 0.861\n",
      "******************************\n",
      "\n",
      "Layer: 4...\n",
      "Training mlp with param L2 1e-05...\n"
     ]
    }
   ],
   "source": [
    "from RuSentEval.probing.arguments import ProbingArguments\n",
    "from RuSentEval.probing.experiment import Experiment\n",
    "\n",
    "\n",
    "tasks = [\"sent_len\"]\n",
    "# name of the HuggingFace model; you can adjust the code for your model\n",
    "model = \"xlm-roberta-base\"\n",
    "args = ProbingArguments()\n",
    "\n",
    "# args.clf == \"logreg\" or args.clf == \"mlp\" for linear/non-linear classification\n",
    "args.clf = \"mlp\"\n",
    "args.device = \"cpu\"\n",
    "args.data_dir = \"\"\n",
    "\n",
    "experiment = Experiment(tasks, model, args)\n",
    "experiment.run()"
   ]
  },
  {
   "cell_type": "code",
   "execution_count": null,
   "metadata": {},
   "outputs": [],
   "source": []
  }
 ],
 "metadata": {
  "interpreter": {
   "hash": "07e41a1a4dc009d922bf40092eb1eca2dc280ea2ddba03d42088569804e377fb"
  },
  "kernelspec": {
   "display_name": "Python 3.9.7 64-bit",
   "language": "python",
   "name": "python3"
  },
  "language_info": {
   "codemirror_mode": {
    "name": "ipython",
    "version": 3
   },
   "file_extension": ".py",
   "mimetype": "text/x-python",
   "name": "python",
   "nbconvert_exporter": "python",
   "pygments_lexer": "ipython3",
   "version": "3.9.7"
  },
  "orig_nbformat": 4
 },
 "nbformat": 4,
 "nbformat_minor": 2
}
