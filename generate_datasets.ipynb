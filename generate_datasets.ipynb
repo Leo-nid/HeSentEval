{
 "cells": [
  {
   "cell_type": "code",
   "execution_count": 80,
   "metadata": {},
   "outputs": [
    {
     "name": "stdout",
     "output_type": "stream",
     "text": [
      "The autoreload extension is already loaded. To reload it, use:\n",
      "  %reload_ext autoreload\n"
     ]
    }
   ],
   "source": [
    "import pyconll\n",
    "import pandas as pd\n",
    "import glob\n",
    "import matplotlib.pyplot as plt\n",
    "import numpy as np\n",
    "import torch\n",
    "\n",
    "%load_ext autoreload\n",
    "%autoreload 2"
   ]
  },
  {
   "cell_type": "code",
   "execution_count": 2,
   "metadata": {},
   "outputs": [],
   "source": [
    "def merge_files(locations, new_file):\n",
    "  files = []\n",
    "  for loc in locations:\n",
    "    files += glob.glob(loc)\n",
    "  res = open(new_file, 'w')\n",
    "  for file in files:\n",
    "    with open(file) as fd:\n",
    "      res.write(fd.read())\n",
    "  res.close()"
   ]
  },
  {
   "cell_type": "code",
   "execution_count": null,
   "metadata": {},
   "outputs": [],
   "source": [
    "merge_files(['./UD_Hebrew-*/*.conllu'], 'he-ud.conllu')"
   ]
  },
  {
   "cell_type": "code",
   "execution_count": 4,
   "metadata": {},
   "outputs": [],
   "source": [
    "heb = pyconll.load_from_file('he-ud.conllu')"
   ]
  },
  {
   "cell_type": "code",
   "execution_count": 5,
   "metadata": {},
   "outputs": [],
   "source": [
    "def all_POS(sentence):\n",
    "  for token in sentence:\n",
    "    if token.upos == 'X':\n",
    "      return False\n",
    "  return True\n",
    "\n",
    "def count_words(sentence):\n",
    "  result = 0\n",
    "  skip = 0\n",
    "  for token in sentence:\n",
    "    if '-' in token.id:\n",
    "      result += 1\n",
    "      skip = int(token.id.split('-')[1])\n",
    "    elif int(token.id) > skip and token.upos != 'PUNCT':\n",
    "      result += 1\n",
    "  return result\n",
    "\n",
    "def count_tokens(sentence):\n",
    "  result = 0\n",
    "  for token in sentence:\n",
    "    if '-' not in token.id:\n",
    "      result += 1\n",
    "  return result\n",
    "  "
   ]
  },
  {
   "cell_type": "code",
   "execution_count": 74,
   "metadata": {},
   "outputs": [],
   "source": [
    "data = pd.DataFrame([(count_words(sentence), count_tokens(sentence), sentence.text) for sentence in heb if all_POS(sentence)], columns=['words', 'tokens', 'sentence'])"
   ]
  },
  {
   "cell_type": "code",
   "execution_count": null,
   "metadata": {},
   "outputs": [],
   "source": [
    "ru_data = pd.read_csv(\n",
    "            \"RuSentEval/data/sent_len.txt\",\n",
    "            sep=\"\\t\",\n",
    "            names=(\"subset\", \"label\", \"sentence\"),\n",
    "          )"
   ]
  },
  {
   "cell_type": "code",
   "execution_count": 75,
   "metadata": {},
   "outputs": [],
   "source": [
    "count, division = np.histogram(data.words, bins=np.arange(100))\n",
    "thresholds = np.linspace(0.05, 0.95, num = 7) * sum(count)\n",
    "threshold_ids = np.searchsorted(np.cumsum(count), thresholds)\n",
    "data['sent_len'] = data['words'].apply(lambda x : (threshold_ids >= x).sum() - 1)\n",
    "sent_len_he = data[(data['sent_len'] >= 0) & (data['sent_len'] < 6)].drop(['words', 'tokens'], axis=1)"
   ]
  },
  {
   "cell_type": "code",
   "execution_count": 8,
   "metadata": {},
   "outputs": [
    {
     "data": {
      "image/png": "[encoded data removed]",
      "text/plain": [
       "<Figure size 1600x1000 with 1 Axes>"
      ]
     },
     "metadata": {},
     "output_type": "display_data"
    }
   ],
   "source": [
    "fig = plt.figure(figsize=(16, 10))\n",
    "plt.hist(sent_len_he.sent_len, bins=np.arange(60))\n",
    "plt.show()"
   ]
  },
  {
   "cell_type": "code",
   "execution_count": 74,
   "metadata": {},
   "outputs": [],
   "source": [
    "def add_column_train(data, split_column, val_size, test_size, seed=None):\n",
    "  res = data.reset_index(drop=True)\n",
    "  classes = data[split_column].unique()\n",
    "  train_size = 1 - val_size - test_size\n",
    "  if seed:\n",
    "    np.random.seed(seed)\n",
    "  res['subset'] = ''\n",
    "  for label in classes:\n",
    "    ids = res[res[split_column] == label].index\n",
    "    perm = np.random.permutation(ids)\n",
    "    train_point = int(np.floor(len(ids) * train_size))\n",
    "    val_point = int(np.floor(len(ids) * (train_size + val_size)))\n",
    "    res.loc[perm[:train_point], 'subset'] = 'tr'\n",
    "    res.loc[perm[train_point:val_point], 'subset'] = 'va'\n",
    "    res.loc[perm[val_point:], 'subset'] = 'te'\n",
    "  return res.reset_index(drop=True)"
   ]
  },
  {
   "cell_type": "code",
   "execution_count": 78,
   "metadata": {},
   "outputs": [],
   "source": [
    "def slice_dataset(data, class_column, target_part=0.1, seed=None):\n",
    "  result = pd.DataFrame(columns=['subset', 'label', 'sentence'])\n",
    "  if seed:\n",
    "    np.random.seed(seed)\n",
    "  for group_val in data.groupby(class_column).groups.values():\n",
    "    gp_res = np.random.permutation(group_val)[:int(np.floor(len(group_val) * target_part))]\n",
    "    result = pd.concat([result, data.loc[gp_res]])\n",
    "  result.reset_index(inplace=True, drop=True)\n",
    "  return add_column_train(result, 'label', val_size=0.1, test_size=0.1)"
   ]
  },
  {
   "cell_type": "code",
   "execution_count": 80,
   "metadata": {},
   "outputs": [],
   "source": [
    "ru_data = pd.read_csv(\n",
    "            \"RuSentEval/data/sent_len.txt\",\n",
    "            sep=\"\\t\",\n",
    "            names=(\"subset\", \"label\", \"sentence\"),\n",
    "          )\n",
    "ru_data_sliced = slice_dataset(ru_data, 'label', seed=42)\n",
    "ru_data_sliced.to_csv('data/ru/sent_len.txt', sep='\\t', index=False, header=False, columns=['subset', 'label', 'sentence'])"
   ]
  },
  {
   "cell_type": "code",
   "execution_count": 79,
   "metadata": {},
   "outputs": [],
   "source": [
    "sent_len_splited = add_column_train(sent_len_he, 'sent_len', 0.1, 0.1, 42).drop(['index'], axis=1)"
   ]
  },
  {
   "cell_type": "code",
   "execution_count": 81,
   "metadata": {},
   "outputs": [],
   "source": [
    "en_data = pd.read_csv(\n",
    "            \"SentEval/data/probing/sentence_length.txt\",\n",
    "            sep=\"\\t\",\n",
    "            names=(\"subset\", \"label\", \"sentence\"),\n",
    "          )\n",
    "en_data_sliced = slice_dataset(en_data, 'label', seed=42)\n",
    "en_data_sliced.to_csv('data/en/sent_len.txt', sep='\\t', index=False, header=False, columns=['subset', 'label', 'sentence'])"
   ]
  },
  {
   "cell_type": "code",
   "execution_count": 5,
   "metadata": {},
   "outputs": [],
   "source": [
    "def get_words_frequency(ud_data, upos):\n",
    "  result = {}\n",
    "  for sentence in ud_data:\n",
    "    for token in sentence:\n",
    "      if token.upos == upos:\n",
    "        if token.lemma not in result:\n",
    "          result[token.lemma] = 0\n",
    "        result[token.lemma] += 1\n",
    "  return result"
   ]
  },
  {
   "cell_type": "code",
   "execution_count": 6,
   "metadata": {},
   "outputs": [],
   "source": [
    "nn_frq_he = get_words_frequency(heb, 'NOUN')"
   ]
  },
  {
   "cell_type": "code",
   "execution_count": 10,
   "metadata": {},
   "outputs": [
    {
     "data": {
      "text/plain": [
       "(array([235., 221., 150., 162., 116., 114., 104.,  81.,  53.,  47.,  37.,\n",
       "         32.,  14.,  11.,   8.,   5.,   0.,   0.,   1.]),\n",
       " array([  10.        ,   12.74274986,   16.23776739,   20.69138081,\n",
       "          26.36650899,   33.59818286,   42.81332399,   54.55594781,\n",
       "          69.51927962,   88.58667904,  112.88378917,  143.84498883,\n",
       "         183.29807108,  233.57214691,  297.63514416,  379.26901907,\n",
       "         483.29302386,  615.84821107,  784.75997035, 1000.        ]),\n",
       " <BarContainer object of 19 artists>)"
      ]
     },
     "execution_count": 10,
     "metadata": {},
     "output_type": "execute_result"
    },
    {
     "data": {
      "image/png": "[encoded data removed]",
      "text/plain": [
       "<Figure size 640x480 with 1 Axes>"
      ]
     },
     "metadata": {},
     "output_type": "display_data"
    }
   ],
   "source": [
    "plt.hist(list(nn_frq_he.values()), bins=np.logspace(1, 3, 20))"
   ]
  },
  {
   "cell_type": "code",
   "execution_count": null,
   "metadata": {},
   "outputs": [],
   "source": [
    "plt.hist(nn_frq_he.values(), bins=np.arange(100))\n",
    "plt.show()"
   ]
  },
  {
   "cell_type": "code",
   "execution_count": 89,
   "metadata": {},
   "outputs": [],
   "source": [
    "srt_nn = sorted(nn_frq_he.items(), key=lambda x: (-x[1], x[0]))"
   ]
  },
  {
   "cell_type": "code",
   "execution_count": null,
   "metadata": {},
   "outputs": [],
   "source": [
    "srt_nn"
   ]
  },
  {
   "cell_type": "code",
   "execution_count": null,
   "metadata": {},
   "outputs": [],
   "source": [
    "\"\"\" \n",
    "https://stackoverflow.com/a/46564234/19784783 \n",
    "\"\"\"\n",
    "\n",
    "import nltk\n",
    "from nltk.stem import WordNetLemmatizer\n",
    "from nltk.corpus import wordnet\n",
    "\n",
    "nltk.download('averaged_perceptron_tagger')\n",
    "nltk.download('wordnet')\n",
    "\n",
    "#example text text = 'What can I say about this place. The staff of these restaurants is nice and the eggplant is not bad'\n",
    "\n",
    "class Splitter(object):\n",
    "    \"\"\"\n",
    "    split the document into sentences and tokenize each sentence\n",
    "    \"\"\"\n",
    "    def __init__(self):\n",
    "        # self.splitter = nltk.data.load('tokenizers/punkt/english.pickle')\n",
    "        self.tokenizer = nltk.tokenize.TreebankWordTokenizer()\n",
    "\n",
    "    def split(self,sentences):\n",
    "        \"\"\"\n",
    "        out : ['What', 'can', 'I', 'say', 'about', 'this', 'place', '.']\n",
    "        \"\"\"\n",
    "        # split into single sentence\n",
    "        # sentences = self.splitter.tokenize(text)\n",
    "        # tokenization in each sentences\n",
    "        tokens = [self.tokenizer.tokenize(sent) for sent in sentences]\n",
    "        return tokens\n",
    "\n",
    "\n",
    "class LemmatizationWithPOSTagger(object):\n",
    "    def __init__(self):\n",
    "        pass\n",
    "    def get_wordnet_pos(self,treebank_tag):\n",
    "        \"\"\"\n",
    "        return WORDNET POS compliance to WORDENT lemmatization (a,n,r,v) \n",
    "        \"\"\"\n",
    "        if treebank_tag.startswith('J'):\n",
    "            return wordnet.ADJ\n",
    "        elif treebank_tag.startswith('V'):\n",
    "            return wordnet.VERB\n",
    "        elif treebank_tag.startswith('N'):\n",
    "            return wordnet.NOUN\n",
    "        elif treebank_tag.startswith('R'):\n",
    "            return wordnet.ADV\n",
    "        else:\n",
    "            # As default pos in lemmatization is Noun\n",
    "            return wordnet.NOUN\n",
    "\n",
    "    def pos_tag(self,tokens):\n",
    "        # find the pos tagginf for each tokens [('What', 'WP'), ('can', 'MD'), ('I', 'PRP') ....\n",
    "        pos_tokens = [nltk.pos_tag(token) for token in tokens]\n",
    "\n",
    "        # lemmatization using pos tagg   \n",
    "        # convert into feature set of [('What', 'What', ['WP']), ('can', 'can', ['MD']), ... ie [original WORD, Lemmatized word, POS tag]\n",
    "        pos_tokens = [ [(word, lemmatizer.lemmatize(word,self.get_wordnet_pos(pos_tag)), [pos_tag]) for (word,pos_tag) in pos] for pos in pos_tokens]\n",
    "        return pos_tokens\n",
    "\n",
    "lemmatizer = WordNetLemmatizer()\n",
    "splitter = Splitter()\n",
    "lemmatization_using_pos_tagger = LemmatizationWithPOSTagger()\n",
    "sentences = list(pd.read_csv('SentEval/data/probing/subj_number.txt', sep='\\t', names=['subset', 'label', 'sentence'])['sentence'])\n",
    "\n",
    "#step 1 split document into sentence followed by tokenization\n",
    "tokens = splitter.split(sentences)\n",
    "\n",
    "#step 2 lemmatization using pos tagger \n",
    "lemma_pos_token = lemmatization_using_pos_tagger.pos_tag(tokens)\n",
    "print(lemma_pos_token)"
   ]
  },
  {
   "cell_type": "code",
   "execution_count": 105,
   "metadata": {},
   "outputs": [],
   "source": [
    "en_dct = {}\n",
    "for sent in lemma_pos_token:\n",
    "  for token in sent:\n",
    "    if token[2] == ['NN']:\n",
    "      if token[1] not in en_dct:\n",
    "        en_dct[token[1]] = 0\n",
    "      en_dct[token[1]] += 1"
   ]
  },
  {
   "cell_type": "code",
   "execution_count": 113,
   "metadata": {},
   "outputs": [
    {
     "name": "stdout",
     "output_type": "stream",
     "text": [
      "14070 480\n"
     ]
    }
   ],
   "source": [
    "en_nn_stat = np.array(list(en_dct.values()), dtype=int)\n",
    "print(len(en_nn_stat), ((en_nn_stat <= 5000) & (en_nn_stat >= 100)).sum())"
   ]
  },
  {
   "cell_type": "code",
   "execution_count": 1,
   "metadata": {},
   "outputs": [
    {
     "ename": "NameError",
     "evalue": "name 'srt_nn' is not defined",
     "output_type": "error",
     "traceback": [
      "\u001b[0;31m---------------------------------------------------------------------------\u001b[0m",
      "\u001b[0;31mNameError\u001b[0m                                 Traceback (most recent call last)",
      "Cell \u001b[0;32mIn[1], line 1\u001b[0m\n\u001b[0;32m----> 1\u001b[0m \u001b[38;5;28mlen\u001b[39m(\u001b[43msrt_nn\u001b[49m)\n",
      "\u001b[0;31mNameError\u001b[0m: name 'srt_nn' is not defined"
     ]
    }
   ],
   "source": [
    "len(srt_nn)"
   ]
  },
  {
   "cell_type": "code",
   "execution_count": 45,
   "metadata": {},
   "outputs": [],
   "source": [
    "def get_tense(sentence):\n",
    "  root = sentence.to_tree()\n",
    "  if root.data.upos != 'VERB':\n",
    "    return 'None'\n",
    "  if 'Tense' in root.data.feats:\n",
    "    return list(root.data.feats['Tense'])[0]\n",
    "  else:\n",
    "    return 'Pres'"
   ]
  },
  {
   "cell_type": "code",
   "execution_count": 93,
   "metadata": {},
   "outputs": [],
   "source": [
    "tenses = pd.DataFrame([(get_tense(sentence), count_words(sentence), sentence.text) for sentence in heb if all_POS(sentence)], columns=['tense', 'words', 'sentence'])"
   ]
  },
  {
   "cell_type": "code",
   "execution_count": 94,
   "metadata": {},
   "outputs": [],
   "source": [
    "tenses_processed = tenses.loc[(tenses['tense'] != 'Fut') & (tenses['words'] >= 4), ['sentence', 'tense']]\n",
    "tenses_processed.loc[tenses['tense'] == 'None', 'tense'] = 'Pres'"
   ]
  },
  {
   "cell_type": "code",
   "execution_count": 96,
   "metadata": {},
   "outputs": [],
   "source": [
    "tenses_processed = add_column_train(tenses_processed, 'tense', val_size=0.1, test_size=0.1, seed=42)"
   ]
  },
  {
   "cell_type": "code",
   "execution_count": 99,
   "metadata": {},
   "outputs": [],
   "source": [
    "tenses_processed.to_csv('data/he/past_present.txt', sep='\\t', index=False, header=False, columns=['subset', 'tense', 'sentence'])"
   ]
  },
  {
   "cell_type": "code",
   "execution_count": 100,
   "metadata": {},
   "outputs": [],
   "source": [
    "en_data = pd.read_csv(\n",
    "            \"SentEval/data/probing/past_present.txt\",\n",
    "            sep=\"\\t\",\n",
    "            names=(\"subset\", \"label\", \"sentence\"),\n",
    "          )\n",
    "en_data_sliced = slice_dataset(en_data, 'label', seed=42)\n",
    "en_data_sliced.to_csv('data/en/past_present.txt', sep='\\t', index=False, header=False, columns=['subset', 'label', 'sentence'])"
   ]
  },
  {
   "cell_type": "code",
   "execution_count": 54,
   "metadata": {},
   "outputs": [],
   "source": [
    "def bigram_shift(sentence):\n",
    "  if np.random.randint(2):\n",
    "    wrds_ids = []\n",
    "    last = -1\n",
    "    for i in range(len(sentence)):\n",
    "      nid = int(sentence[i].id.split('-')[-1])\n",
    "      if nid > last:\n",
    "        last = nid\n",
    "        if sentence[i].upos != 'PUNCT':\n",
    "          wrds_ids.append(i)\n",
    "    ids_to_change = np.random.randint(len(wrds_ids) - 1)\n",
    "    tokens_to_change = [wrds_ids[ids_to_change], wrds_ids[ids_to_change + 1]]\n",
    "    result = \"\"\n",
    "    last = -1\n",
    "    for i in range(len(sentence)):\n",
    "      nid = int(sentence[i].id.split('-')[-1])\n",
    "      if nid > last:\n",
    "        last = nid\n",
    "        if sentence[i].upos != 'PUNCT':\n",
    "          wrds_ids.append(i)\n",
    "        to_add = i\n",
    "        if i in tokens_to_change:\n",
    "          to_add = sum(tokens_to_change) - i\n",
    "        result += sentence[to_add].form\n",
    "        if not ('SpaceAfter' in sentence[i].misc and sentence[i].misc['SpaceAfter'] == set(['No'])) and sentence[i].form != '.':\n",
    "          result += ' '\n",
    "      \n",
    "    return ('I', result)\n",
    "  return ('O', sentence.text)"
   ]
  },
  {
   "cell_type": "code",
   "execution_count": 7,
   "metadata": {},
   "outputs": [
    {
     "data": {
      "text/plain": [
       "18"
      ]
     },
     "execution_count": 7,
     "metadata": {},
     "output_type": "execute_result"
    }
   ],
   "source": [
    "len(heb[0])"
   ]
  },
  {
   "cell_type": "code",
   "execution_count": 56,
   "metadata": {},
   "outputs": [],
   "source": [
    "bshift_processed = pd.DataFrame([bigram_shift(sentence) for sentence in heb if len(sentence.text.split()) > 3 and all_POS(sentence)], columns=['swapped', 'sentence'])"
   ]
  },
  {
   "cell_type": "code",
   "execution_count": 60,
   "metadata": {},
   "outputs": [],
   "source": [
    "bshift_processed = add_column_train(bshift_processed, 'swapped', val_size=0.1, test_size=0.1, seed=42)"
   ]
  },
  {
   "cell_type": "code",
   "execution_count": 61,
   "metadata": {},
   "outputs": [],
   "source": [
    "bshift_processed.to_csv('data/he/bigram_shift.txt', sep='\\t', index=False, header=False, columns=['subset', 'swapped', 'sentence'])"
   ]
  },
  {
   "cell_type": "code",
   "execution_count": 62,
   "metadata": {},
   "outputs": [],
   "source": [
    "en_data = pd.read_csv(\n",
    "            \"SentEval/data/probing/bigram_shift.txt\",\n",
    "            sep=\"\\t\",\n",
    "            names=(\"subset\", \"label\", \"sentence\"),\n",
    "          )\n",
    "en_data_sliced = slice_dataset(en_data, 'label', seed=42)\n",
    "en_data_sliced.to_csv('data/en/bigram_shift.txt', sep='\\t', index=False, header=False, columns=['subset', 'label', 'sentence'])"
   ]
  },
  {
   "cell_type": "code",
   "execution_count": 14,
   "metadata": {},
   "outputs": [],
   "source": [
    "kek = np.array(list(nn_frq_he.values()))"
   ]
  },
  {
   "cell_type": "code",
   "execution_count": 17,
   "metadata": {},
   "outputs": [
    {
     "data": {
      "text/plain": [
       "126"
      ]
     },
     "execution_count": 17,
     "metadata": {},
     "output_type": "execute_result"
    }
   ],
   "source": [
    "((kek > 100) & (kek < 500)).sum()"
   ]
  },
  {
   "cell_type": "code",
   "execution_count": 52,
   "metadata": {},
   "outputs": [],
   "source": [
    "def subj_number(sentence):\n",
    "  root = sentence.to_tree()\n",
    "  for chld in root:\n",
    "    if 'subj' in chld.data.deprel and chld.data.upos == 'NOUN':\n",
    "      num = 'Sing'\n",
    "      if 'Number' in chld.data.feats:\n",
    "        num = list(chld.data.feats['Number'])[0]\n",
    "      return (chld.data.lemma, num, nn_frq_he[chld.data.lemma], sentence.text)\n",
    "  return (None, None, None, None)"
   ]
  },
  {
   "cell_type": "code",
   "execution_count": 72,
   "metadata": {},
   "outputs": [],
   "source": [
    "def balance_dataset(dataset, label_col, seed=None):\n",
    "  if seed:\n",
    "    np.random.seed(seed)\n",
    "  to_size = min(dataset.groupby(label_col).size().values)\n",
    "  res_indicies = np.array([])\n",
    "  for label in dataset[label_col].unique():\n",
    "    label_rows = np.where(dataset[label_col] == label)[0]\n",
    "    np.random.shuffle(label_rows)\n",
    "    res_indicies = np.concatenate([res_indicies, label_rows[:to_size]])\n",
    "  return dataset.loc[res_indicies,:].reset_index(drop=True)"
   ]
  },
  {
   "cell_type": "code",
   "execution_count": 53,
   "metadata": {},
   "outputs": [],
   "source": [
    "subjnum_processed = pd.DataFrame([subj_number(sentence) for sentence in heb if len(sentence.text.split()) > 3 and all_POS(sentence)], columns=['lemma', 'number', 'freq', 'sentence'])"
   ]
  },
  {
   "cell_type": "code",
   "execution_count": 56,
   "metadata": {},
   "outputs": [],
   "source": [
    "subjnum_processed.dropna(inplace=True)\n",
    "subjnum_processed.drop(subjnum_processed[(subjnum_processed['freq'] < 50) | (subjnum_processed['freq'] > 500)].index, inplace=True)\n",
    "subjnum_processed.drop(subjnum_processed[(subjnum_processed['number'] == 'Dual')].index, inplace=True)\n",
    "subjnum_processed.reset_index(inplace=True, drop=True)\n",
    "subjnum_processed = balance_dataset(subjnum_processed, 'number', seed=42)\n",
    "subjnum_processed = add_column_train(subjnum_processed, 'number', 0.1, 0.1)"
   ]
  },
  {
   "cell_type": "code",
   "execution_count": 105,
   "metadata": {},
   "outputs": [],
   "source": [
    "subjnum_processed.to_csv('data/he/subj_number.txt', sep='\\t', index=False, header=False, columns=['subset', 'number', 'sentence'])"
   ]
  },
  {
   "cell_type": "code",
   "execution_count": 108,
   "metadata": {},
   "outputs": [],
   "source": [
    "en_data = pd.read_csv(\n",
    "            \"SentEval/data/probing/subj_number.txt\",\n",
    "            sep=\"\\t\",\n",
    "            names=(\"subset\", \"label\", \"sentence\"),\n",
    "          )\n",
    "en_data_sliced = slice_dataset(en_data, 'label', target_part=0.02, seed=42)\n",
    "en_data_sliced.to_csv('data/en/subj_number.txt', sep='\\t', index=False, header=False, columns=['subset', 'label', 'sentence'])"
   ]
  },
  {
   "cell_type": "code",
   "execution_count": 109,
   "metadata": {},
   "outputs": [],
   "source": [
    "def coordination_inversion(sentence):\n",
    "  cnt_cconj = sum([token.upos == 'CCONJ' for token in sentence])\n",
    "  if cnt_cconj != 1:\n",
    "    return (None, None)\n",
    "  if np.random.randint(2):\n",
    "    fxd = [int(sentence[-1].id)]\n",
    "    lst_punct_id = -1\n",
    "    cconj_id = -1\n",
    "    cconj_index = -1\n",
    "    \n",
    "    for i in sentence:\n",
    "      token = sentence[i]\n",
    "      if token.upos == 'PUNKT':\n",
    "        lst_punct_id = int(token.id)\n",
    "      if token.upos == 'CCONJ':\n",
    "        cconj_id = int(token.id)\n",
    "        cconj_index = i\n",
    "        break\n",
    "    fxd.append(cconj_id)\n",
    "    has_punct = (cconj_id - 1 == lst_punct_id)\n",
    "    cconj_in_compound = (len(sentence[cconj_index - 1].id.split('-')) > 1)\n",
    "    result = \"\"\n",
    "    last = -1\n",
    "    start = cconj_index + 1\n",
    "    if cconj_in_compound:\n",
    "      last_id_in_compound = int(sentence[cconj_index - 1].id.split('-')[1])\n",
    "      for i in range(cconj_index + 1, last_id_in_compount + 1):\n",
    "        result += sentence[i].form\n",
    "      comp_id = cconj_index - 1\n",
    "      if not ('SpaceAfter' in sentence[comp_id].misc \\\\\n",
    "              and sentence[comp_id].misc['SpaceAfter'] == set(['No'])) \\\\\n",
    "              and sentence[comp_id].form != '.':\n",
    "        result += ' '\n",
    "      start = last_id_in_compound + 1\n",
    "    for i in range(start, len(sentence) - 1):\n",
    "      nid = int(sentence[i].id.split('-')[-1])\n",
    "      if nid > last:\n",
    "        last = nid\n",
    "        result += sentence[i].form\n",
    "        if not ('SpaceAfter' in sentence[i].misc and sentence[i].misc['SpaceAfter'] == set(['No'])) and sentence[i].form != '.':\n",
    "          result += ' '\n",
    "    if has_punct:\n",
    "      \n",
    "    for i in range(start, len(sentence) - 1):\n",
    "      nid = int(sentence[i].id.split('-')[-1])\n",
    "      if nid > last:\n",
    "        last = nid\n",
    "        result += sentence[i].form\n",
    "        if not ('SpaceAfter' in sentence[i].misc and sentence[i].misc['SpaceAfter'] == set(['No'])) and sentence[i].form != '.':\n",
    "          result += ' '"
   ]
  },
  {
   "cell_type": "code",
   "execution_count": 86,
   "metadata": {},
   "outputs": [],
   "source": [
    "def coordination_inversion(sentence):\n",
    "  cnt_cconj = sum([token.upos == 'CCONJ' for token in sentence])\n",
    "  if cnt_cconj != 1:\n",
    "    return (None, None, None)\n",
    "  fxd = [int(sentence[-1].id)]\n",
    "  lst_comma_id = -1\n",
    "  cconj_id = -1\n",
    "  cconj_index = -1\n",
    "\n",
    "  for i in range(len(sentence)):\n",
    "    token = sentence[i]\n",
    "    if token.form == ',':\n",
    "      lst_comma_id = int(token.id)\n",
    "    if token.upos == 'CCONJ':\n",
    "      cconj_id = int(token.id)\n",
    "      cconj_index = i\n",
    "      break\n",
    "  fxd.append(cconj_id)\n",
    "  has_punct = (cconj_id - 1 == lst_comma_id)\n",
    "  cconj_in_compound = (len(sentence[cconj_index - 1].id.split('-')) > 1)\n",
    "  splitter = ' ' + sentence[cconj_index].form\n",
    "  if has_punct:\n",
    "    splitter = ',' + splitter\n",
    "  if not cconj_in_compound:\n",
    "    splitter += ' '\n",
    "  parts = sentence.text[:-1].split(splitter)\n",
    "  if len(parts) < 2:\n",
    "    return ('-1', sentence.text, sentence[cconj_index].form, 1, 1)\n",
    "  if len(parts) > 2:\n",
    "    return ('+1', sentence.text, sentence[cconj_index].form, 1, 1)\n",
    "  new_sent = parts[1] + splitter + parts[0] + '.'\n",
    "  ptszs = list(map(len, parts))\n",
    "  if np.random.randint(2):\n",
    "    return ('I', new_sent, sentence[cconj_index].form, min(ptszs), max(ptszs))\n",
    "  return ('O', sentence.text, sentence[cconj_index].form, min(ptszs), max(ptszs))"
   ]
  },
  {
   "cell_type": "code",
   "execution_count": 37,
   "metadata": {},
   "outputs": [],
   "source": [
    "cnt = 0\n",
    "for sent in heb:\n",
    "  res = coordination_inversion(sent)\n",
    "  if res != (None, None):\n",
    "#     print(res)\n",
    "    cnt += 1\n",
    "    if cnt == 50:\n",
    "      break"
   ]
  },
  {
   "cell_type": "code",
   "execution_count": 87,
   "metadata": {},
   "outputs": [],
   "source": [
    "np.random.seed(42)\n",
    "crd_inv_proc = pd.DataFrame([coordination_inversion(sent) for sent in heb if len(sent.text.split()) > 3 and all_POS(sent)], columns=[\"label\", \"sentence\", \"cconj\", 'min', 'max'])"
   ]
  },
  {
   "cell_type": "code",
   "execution_count": 88,
   "metadata": {},
   "outputs": [],
   "source": [
    "crd_inv_proc.dropna(inplace=True)\n",
    "crd_inv_proc.drop(crd_inv_proc[(crd_inv_proc['label'] == '+1') | (crd_inv_proc['label'] == '-1')].index, inplace=True)\n",
    "crd_inv_proc.reset_index(inplace=True, drop=True)"
   ]
  },
  {
   "cell_type": "code",
   "execution_count": 90,
   "metadata": {},
   "outputs": [],
   "source": [
    "crd_inv_proc['ff'] = crd_inv_proc['max'] / crd_inv_proc['min']"
   ]
  },
  {
   "cell_type": "code",
   "execution_count": 94,
   "metadata": {},
   "outputs": [
    {
     "data": {
      "text/plain": [
       "(array([  0.,   0., 908., 584., 409., 282., 228., 136., 131.,  95.,  66.,\n",
       "         60.,  57.,  37.,  40.,  47.,  27.,  27.,  24.,  20.,  14.,  20.,\n",
       "         12.,  13.,   8.,   9.,   9.,   9.,   9.,   4.,  12.,   7.,   8.,\n",
       "         10.,  11.,   6.,   4.,   2.,   4.,   3.,   3.,   3.,   4.,   1.,\n",
       "          4.,   3.,   5.,   2.,   3.]),\n",
       " array([ 0. ,  0.5,  1. ,  1.5,  2. ,  2.5,  3. ,  3.5,  4. ,  4.5,  5. ,\n",
       "         5.5,  6. ,  6.5,  7. ,  7.5,  8. ,  8.5,  9. ,  9.5, 10. , 10.5,\n",
       "        11. , 11.5, 12. , 12.5, 13. , 13.5, 14. , 14.5, 15. , 15.5, 16. ,\n",
       "        16.5, 17. , 17.5, 18. , 18.5, 19. , 19.5, 20. , 20.5, 21. , 21.5,\n",
       "        22. , 22.5, 23. , 23.5, 24. , 24.5]),\n",
       " <BarContainer object of 49 artists>)"
      ]
     },
     "execution_count": 94,
     "metadata": {},
     "output_type": "execute_result"
    },
    {
     "data": {
      "image/png": "[encoded data removed]",
      "text/plain": [
       "<Figure size 640x480 with 1 Axes>"
      ]
     },
     "metadata": {},
     "output_type": "display_data"
    }
   ],
   "source": [
    "plt.hist(crd_inv_proc['ff'], bins=np.arange(0, 25, 0.5))"
   ]
  },
  {
   "cell_type": "code",
   "execution_count": 75,
   "metadata": {},
   "outputs": [],
   "source": [
    "crd_inv_proc = add_column_train(crd_inv_proc, 'label', 0.1, 0.1, seed=42)"
   ]
  },
  {
   "cell_type": "code",
   "execution_count": 85,
   "metadata": {},
   "outputs": [
    {
     "data": {
      "text/plain": [
       "0.869235259778167"
      ]
     },
     "execution_count": 85,
     "metadata": {},
     "output_type": "execute_result"
    }
   ],
   "source": [
    "2978/len(crd_inv_proc)"
   ]
  },
  {
   "cell_type": "code",
   "execution_count": 83,
   "metadata": {},
   "outputs": [
    {
     "data": {
      "text/html": [
       "<div>\n",
       "<style scoped>\n",
       "    .dataframe tbody tr th:only-of-type {\n",
       "        vertical-align: middle;\n",
       "    }\n",
       "\n",
       "    .dataframe tbody tr th {\n",
       "        vertical-align: top;\n",
       "    }\n",
       "\n",
       "    .dataframe thead th {\n",
       "        text-align: right;\n",
       "    }\n",
       "</style>\n",
       "<table border=\"1\" class=\"dataframe\">\n",
       "  <thead>\n",
       "    <tr style=\"text-align: right;\">\n",
       "      <th></th>\n",
       "      <th>label</th>\n",
       "      <th>sentence</th>\n",
       "      <th>subset</th>\n",
       "    </tr>\n",
       "    <tr>\n",
       "      <th>cconj</th>\n",
       "      <th></th>\n",
       "      <th></th>\n",
       "      <th></th>\n",
       "    </tr>\n",
       "  </thead>\n",
       "  <tbody>\n",
       "    <tr>\n",
       "      <th>אבל</th>\n",
       "      <td>63</td>\n",
       "      <td>63</td>\n",
       "      <td>63</td>\n",
       "    </tr>\n",
       "    <tr>\n",
       "      <th>או</th>\n",
       "      <td>157</td>\n",
       "      <td>157</td>\n",
       "      <td>157</td>\n",
       "    </tr>\n",
       "    <tr>\n",
       "      <th>אולם</th>\n",
       "      <td>27</td>\n",
       "      <td>27</td>\n",
       "      <td>27</td>\n",
       "    </tr>\n",
       "    <tr>\n",
       "      <th>אילו</th>\n",
       "      <td>3</td>\n",
       "      <td>3</td>\n",
       "      <td>3</td>\n",
       "    </tr>\n",
       "    <tr>\n",
       "      <th>איפוא</th>\n",
       "      <td>1</td>\n",
       "      <td>1</td>\n",
       "      <td>1</td>\n",
       "    </tr>\n",
       "    <tr>\n",
       "      <th>אך</th>\n",
       "      <td>95</td>\n",
       "      <td>95</td>\n",
       "      <td>95</td>\n",
       "    </tr>\n",
       "    <tr>\n",
       "      <th>אלא</th>\n",
       "      <td>50</td>\n",
       "      <td>50</td>\n",
       "      <td>50</td>\n",
       "    </tr>\n",
       "    <tr>\n",
       "      <th>אלה</th>\n",
       "      <td>1</td>\n",
       "      <td>1</td>\n",
       "      <td>1</td>\n",
       "    </tr>\n",
       "    <tr>\n",
       "      <th>אלמלא</th>\n",
       "      <td>1</td>\n",
       "      <td>1</td>\n",
       "      <td>1</td>\n",
       "    </tr>\n",
       "    <tr>\n",
       "      <th>אף</th>\n",
       "      <td>17</td>\n",
       "      <td>17</td>\n",
       "      <td>17</td>\n",
       "    </tr>\n",
       "    <tr>\n",
       "      <th>באשר</th>\n",
       "      <td>1</td>\n",
       "      <td>1</td>\n",
       "      <td>1</td>\n",
       "    </tr>\n",
       "    <tr>\n",
       "      <th>בניגוד</th>\n",
       "      <td>3</td>\n",
       "      <td>3</td>\n",
       "      <td>3</td>\n",
       "    </tr>\n",
       "    <tr>\n",
       "      <th>הרי</th>\n",
       "      <td>1</td>\n",
       "      <td>1</td>\n",
       "      <td>1</td>\n",
       "    </tr>\n",
       "    <tr>\n",
       "      <th>ו</th>\n",
       "      <td>2978</td>\n",
       "      <td>2978</td>\n",
       "      <td>2978</td>\n",
       "    </tr>\n",
       "    <tr>\n",
       "      <th>חרף</th>\n",
       "      <td>1</td>\n",
       "      <td>1</td>\n",
       "      <td>1</td>\n",
       "    </tr>\n",
       "    <tr>\n",
       "      <th>כאילו</th>\n",
       "      <td>3</td>\n",
       "      <td>3</td>\n",
       "      <td>3</td>\n",
       "    </tr>\n",
       "    <tr>\n",
       "      <th>לו</th>\n",
       "      <td>1</td>\n",
       "      <td>1</td>\n",
       "      <td>1</td>\n",
       "    </tr>\n",
       "    <tr>\n",
       "      <th>למעט</th>\n",
       "      <td>1</td>\n",
       "      <td>1</td>\n",
       "      <td>1</td>\n",
       "    </tr>\n",
       "    <tr>\n",
       "      <th>מאחר</th>\n",
       "      <td>4</td>\n",
       "      <td>4</td>\n",
       "      <td>4</td>\n",
       "    </tr>\n",
       "    <tr>\n",
       "      <th>מאשר</th>\n",
       "      <td>8</td>\n",
       "      <td>8</td>\n",
       "      <td>8</td>\n",
       "    </tr>\n",
       "    <tr>\n",
       "      <th>מחמת</th>\n",
       "      <td>1</td>\n",
       "      <td>1</td>\n",
       "      <td>1</td>\n",
       "    </tr>\n",
       "    <tr>\n",
       "      <th>מכדי</th>\n",
       "      <td>2</td>\n",
       "      <td>2</td>\n",
       "      <td>2</td>\n",
       "    </tr>\n",
       "    <tr>\n",
       "      <th>עקב</th>\n",
       "      <td>7</td>\n",
       "      <td>7</td>\n",
       "      <td>7</td>\n",
       "    </tr>\n",
       "  </tbody>\n",
       "</table>\n",
       "</div>"
      ],
      "text/plain": [
       "        label  sentence  subset\n",
       "cconj                          \n",
       "אבל        63        63      63\n",
       "או        157       157     157\n",
       "אולם       27        27      27\n",
       "אילו        3         3       3\n",
       "איפוא       1         1       1\n",
       "אך         95        95      95\n",
       "אלא        50        50      50\n",
       "אלה         1         1       1\n",
       "אלמלא       1         1       1\n",
       "אף         17        17      17\n",
       "באשר        1         1       1\n",
       "בניגוד      3         3       3\n",
       "הרי         1         1       1\n",
       "ו        2978      2978    2978\n",
       "חרף         1         1       1\n",
       "כאילו       3         3       3\n",
       "לו          1         1       1\n",
       "למעט        1         1       1\n",
       "מאחר        4         4       4\n",
       "מאשר        8         8       8\n",
       "מחמת        1         1       1\n",
       "מכדי        2         2       2\n",
       "עקב         7         7       7"
      ]
     },
     "execution_count": 83,
     "metadata": {},
     "output_type": "execute_result"
    }
   ],
   "source": [
    "crd_inv_proc.groupby(['cconj']).count()"
   ]
  },
  {
   "cell_type": "code",
   "execution_count": 76,
   "metadata": {},
   "outputs": [],
   "source": [
    "crd_inv_proc.to_csv('data/he/coordination_inversion.txt', sep='\\t', index=False, header=False, columns=['subset', 'label', 'sentence'])"
   ]
  },
  {
   "cell_type": "code",
   "execution_count": 79,
   "metadata": {},
   "outputs": [],
   "source": [
    "en_data = pd.read_csv(\n",
    "            \"SentEval/data/probing/coordination_inversion.txt\",\n",
    "            sep=\"\\t\",\n",
    "            names=(\"subset\", \"label\", \"sentence\"),\n",
    "          )\n",
    "en_data_sliced = slice_dataset(en_data, 'label', target_part=0.04, seed=42)\n",
    "en_data_sliced.to_csv('data/en/coordination_inversion.txt', sep='\\t', index=False, header=False, columns=['subset', 'label', 'sentence'])"
   ]
  },
  {
   "cell_type": "code",
   "execution_count": 118,
   "metadata": {},
   "outputs": [],
   "source": [
    "# counting freq of words by POS\n",
    "\n",
    "heb_freq_by_pos = {}\n",
    "for sent in heb:\n",
    "  if all_POS(sent):\n",
    "    for token in sent:\n",
    "      if token.upos == None:\n",
    "        continue\n",
    "      if token.upos not in heb_freq_by_pos:\n",
    "        heb_freq_by_pos[token.upos] = {}\n",
    "      if token.lemma not in heb_freq_by_pos[token.upos]:\n",
    "        heb_freq_by_pos[token.upos][token.lemma] = 0\n",
    "      heb_freq_by_pos[token.upos][token.lemma] += 1"
   ]
  },
  {
   "cell_type": "code",
   "execution_count": 119,
   "metadata": {},
   "outputs": [],
   "source": [
    "pos_freqs = {pos: len([freq for freq in dct.values() if 10 < freq < 100]) for pos, dct in heb_freq_by_pos.items()}"
   ]
  },
  {
   "cell_type": "code",
   "execution_count": 120,
   "metadata": {},
   "outputs": [
    {
     "data": {
      "text/plain": [
       "{'DET': 13,\n",
       " 'NOUN': 1161,\n",
       " 'VERB': 445,\n",
       " 'CCONJ': 7,\n",
       " 'ADP': 63,\n",
       " 'PRON': 9,\n",
       " 'PUNCT': 8,\n",
       " 'ADJ': 281,\n",
       " 'ADV': 111,\n",
       " 'SCONJ': 13,\n",
       " 'NUM': 119,\n",
       " 'PROPN': 270,\n",
       " 'AUX': 6,\n",
       " 'INTJ': 0,\n",
       " 'SYM': 3}"
      ]
     },
     "execution_count": 120,
     "metadata": {},
     "output_type": "execute_result"
    }
   ],
   "source": [
    "pos_freqs"
   ]
  },
  {
   "cell_type": "code",
   "execution_count": null,
   "metadata": {},
   "outputs": [],
   "source": [
    "def odd_man_out"
   ]
  }
 ],
 "metadata": {
  "kernelspec": {
   "display_name": "Python 3 (ipykernel)",
   "language": "python",
   "name": "python3"
  },
  "language_info": {
   "codemirror_mode": {
    "name": "ipython",
    "version": 3
   },
   "file_extension": ".py",
   "mimetype": "text/x-python",
   "name": "python",
   "nbconvert_exporter": "python",
   "pygments_lexer": "ipython3",
   "version": "3.10.11"
  }
 },
 "nbformat": 4,
 "nbformat_minor": 2
}
